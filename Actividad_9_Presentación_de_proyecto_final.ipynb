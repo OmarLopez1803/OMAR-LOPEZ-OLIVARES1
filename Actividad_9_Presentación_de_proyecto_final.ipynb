{
  "nbformat": 4,
  "nbformat_minor": 0,
  "metadata": {
    "colab": {
      "provenance": [],
      "authorship_tag": "ABX9TyOHz1kAbtLzC+r8Pw7lnpeh",
      "include_colab_link": true
    },
    "kernelspec": {
      "name": "python3",
      "display_name": "Python 3"
    },
    "language_info": {
      "name": "python"
    }
  },
  "cells": [
    {
      "cell_type": "markdown",
      "metadata": {
        "id": "view-in-github",
        "colab_type": "text"
      },
      "source": [
        "<a href=\"https://colab.research.google.com/github/OmarLopez1803/OMAR-LOPEZ-OLIVARES1/blob/main/Actividad_9_Presentaci%C3%B3n_de_proyecto_final.ipynb\" target=\"_parent\"><img src=\"https://colab.research.google.com/assets/colab-badge.svg\" alt=\"Open In Colab\"/></a>"
      ]
    },
    {
      "cell_type": "markdown",
      "source": [
        "Actividad 9: Presentación de proyecto final\n",
        "AUTORES:\n",
        "\n",
        "\n",
        "*   OMAR LÓPEZ OLIVARES\n",
        "*   CARLOS YAHIR BÓRQUEZ ZAZUETA\n",
        "\n"
      ],
      "metadata": {
        "id": "uTzS-SVBMSyM"
      }
    },
    {
      "cell_type": "code",
      "execution_count": null,
      "metadata": {
        "id": "dqlhp9YZMQeg"
      },
      "outputs": [],
      "source": [
        "import serial\n",
        "import time\n",
        "import random\n",
        "\n",
        "# Conectar con Arduino (ajusta el puerto COM)\n",
        "ser = serial.Serial('COM5', 9600, timeout=1)\n",
        "time.sleep(2)  # Esperar que Arduino reinicie\n",
        "\n",
        "def enviar_pid(kp, ki, kd):\n",
        "    comando = f\"{kp},{ki},{kd}\\n\"\n",
        "    ser.write(comando.encode())\n",
        "\n",
        "def leer_recompensa():\n",
        "    while True:\n",
        "        line = ser.readline().decode('utf-8').strip()\n",
        "        if line.startswith(\"REWARD:\"):\n",
        "            return float(line.split(\":\")[1])\n",
        "\n",
        "# Rango de búsqueda\n",
        "kp_range = (10, 100)\n",
        "ki_range = (0, 400)\n",
        "kd_range = (0.01, 5)\n",
        "\n",
        "mejor_pid = None\n",
        "mejor_recompensa = float('-inf')\n",
        "\n",
        "for i in range(30):  # Número de pruebas\n",
        "    kp = round(random.uniform(*kp_range), 2)\n",
        "    ki = round(random.uniform(*ki_range), 2)\n",
        "    kd = round(random.uniform(*kd_range), 2)\n",
        "\n",
        "    print(f\"Probar PID #{i+1}: Kp={kp}, Ki={ki}, Kd={kd}\")\n",
        "    enviar_pid(kp, ki, kd)\n",
        "\n",
        "    recompensa = leer_recompensa()\n",
        "    print(f\"  -> Recompensa: {recompensa}\")\n",
        "\n",
        "    if recompensa > mejor_recompensa:\n",
        "        mejor_recompensa = recompensa\n",
        "        mejor_pid = (kp, ki, kd)\n",
        "        print(f\"  Nuevo mejor PID: {mejor_pid} con recompensa {mejor_recompensa}\")\n",
        "\n",
        "print(\"\\n Mejor PID encontrado:\")\n",
        "print(f\"Kp={mejor_pid[0]}, Ki={mejor_pid[1]}, Kd={mejor_pid[2]}\")\n"
      ]
    }
  ]
}